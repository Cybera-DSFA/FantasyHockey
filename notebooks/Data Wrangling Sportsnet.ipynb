{
 "cells": [
  {
   "cell_type": "markdown",
   "metadata": {},
   "source": [
    "# Fantasy Hockey Data Wrangling\n",
    "\n",
    "In this notebook we will wrangle the data used for the Fantasy Hockey draft. This will involve a few steps\n",
    "1. Gather various tables of players, teams, and salaries\n",
    "2. Join the tables\n",
    "3. Calculate each player's score-per-game with custom scoring metrics for our fantasy hockey league \n",
    "\n",
    "Note that many of the helper scripts have been abstracted away to `scripts/hockey_bots.py`\n",
    "\n",
    "\n",
    "## Collecting Data\n",
    "\n",
    "Below we import libraries, as well as import required data into the notebook. "
   ]
  },
  {
   "cell_type": "code",
   "execution_count": 33,
   "metadata": {},
   "outputs": [],
   "source": [
    "import pandas as pd\n",
    "import numpy as np\n",
    "import sys\n",
    "import importlib\n",
    "sys.path.insert(1, '../')\n",
    "import scripts.hockey_bots as hockey\n",
    "importlib.reload(hockey)\n",
    "\n",
    "# players table (stats)\n",
    "df_p1 = pd.read_csv(\"../data/processed/player_data_2018.csv\")\n",
    "df_g1 = pd.read_csv(\"../data/processed/goalie_data_2018.csv\")\n",
    "\n",
    "df_p2 = pd.read_csv(\"../data/processed/player_data_2019.csv\")\n",
    "df_g2 = pd.read_csv(\"../data/processed/goalie_data_2019.csv\")\n",
    "\n"
   ]
  },
  {
   "cell_type": "code",
   "execution_count": 38,
   "metadata": {},
   "outputs": [],
   "source": [
    "dfp = df_p1.append(df_p2)\n",
    "del dfp['Unnamed: 0']\n",
    "\n",
    "dfg = df_g1.append(df_g2)\n",
    "del dfg['Unnamed: 0']"
   ]
  },
  {
   "cell_type": "code",
   "execution_count": 123,
   "metadata": {},
   "outputs": [
    {
     "data": {
      "text/plain": [
       "5"
      ]
     },
     "execution_count": 123,
     "metadata": {},
     "output_type": "execute_result"
    }
   ],
   "source": []
  },
  {
   "cell_type": "code",
   "execution_count": 51,
   "metadata": {},
   "outputs": [],
   "source": [
    "def pscore(row):\n",
    "    goals = row.goals\n",
    "    assists = row.assists\n",
    "    return goals + assists\n",
    "\n",
    "def gscore(row):\n",
    "    if row.decision == 'W':\n",
    "        score = 1\n",
    "    else:\n",
    "        score = 0\n",
    "    if row.savePercentage > 99.9:\n",
    "        score += 2\n",
    "    return score\n",
    "    \n",
    "dfp['points']  = dfp.apply(pscore, axis=1)\n",
    "dfg['points'] = dfg.apply(gscore, axis=1)"
   ]
  },
  {
   "cell_type": "code",
   "execution_count": 102,
   "metadata": {},
   "outputs": [
    {
     "data": {
      "text/plain": [
       "89655"
      ]
     },
     "execution_count": 102,
     "metadata": {},
     "output_type": "execute_result"
    }
   ],
   "source": [
    "len(dfw)"
   ]
  },
  {
   "cell_type": "code",
   "execution_count": 100,
   "metadata": {},
   "outputs": [
    {
     "data": {
      "text/html": [
       "<div>\n",
       "<style scoped>\n",
       "    .dataframe tbody tr th:only-of-type {\n",
       "        vertical-align: middle;\n",
       "    }\n",
       "\n",
       "    .dataframe tbody tr th {\n",
       "        vertical-align: top;\n",
       "    }\n",
       "\n",
       "    .dataframe thead th {\n",
       "        text-align: right;\n",
       "    }\n",
       "</style>\n",
       "<table border=\"1\" class=\"dataframe\">\n",
       "  <thead>\n",
       "    <tr style=\"text-align: right;\">\n",
       "      <th></th>\n",
       "      <th>PlayerId</th>\n",
       "      <th>game_id</th>\n",
       "      <th>team</th>\n",
       "      <th>points</th>\n",
       "      <th>position</th>\n",
       "      <th>gamenum</th>\n",
       "    </tr>\n",
       "  </thead>\n",
       "  <tbody>\n",
       "    <tr>\n",
       "      <th>0</th>\n",
       "      <td>ID8471735</td>\n",
       "      <td>2018020811</td>\n",
       "      <td>13</td>\n",
       "      <td>1</td>\n",
       "      <td>D</td>\n",
       "      <td>50</td>\n",
       "    </tr>\n",
       "    <tr>\n",
       "      <th>1</th>\n",
       "      <td>ID8473544</td>\n",
       "      <td>2018020811</td>\n",
       "      <td>13</td>\n",
       "      <td>0</td>\n",
       "      <td>C</td>\n",
       "      <td>50</td>\n",
       "    </tr>\n",
       "    <tr>\n",
       "      <th>2</th>\n",
       "      <td>ID8474149</td>\n",
       "      <td>2018020811</td>\n",
       "      <td>13</td>\n",
       "      <td>0</td>\n",
       "      <td>R</td>\n",
       "      <td>50</td>\n",
       "    </tr>\n",
       "    <tr>\n",
       "      <th>3</th>\n",
       "      <td>ID8477932</td>\n",
       "      <td>2018020811</td>\n",
       "      <td>13</td>\n",
       "      <td>1</td>\n",
       "      <td>D</td>\n",
       "      <td>50</td>\n",
       "    </tr>\n",
       "    <tr>\n",
       "      <th>4</th>\n",
       "      <td>ID8476875</td>\n",
       "      <td>2018020811</td>\n",
       "      <td>13</td>\n",
       "      <td>0</td>\n",
       "      <td>D</td>\n",
       "      <td>50</td>\n",
       "    </tr>\n",
       "    <tr>\n",
       "      <th>...</th>\n",
       "      <td>...</td>\n",
       "      <td>...</td>\n",
       "      <td>...</td>\n",
       "      <td>...</td>\n",
       "      <td>...</td>\n",
       "      <td>...</td>\n",
       "    </tr>\n",
       "    <tr>\n",
       "      <th>89650</th>\n",
       "      <td>ID8478398</td>\n",
       "      <td>2019020342</td>\n",
       "      <td>52</td>\n",
       "      <td>1</td>\n",
       "      <td>L</td>\n",
       "      <td>104</td>\n",
       "    </tr>\n",
       "    <tr>\n",
       "      <th>89651</th>\n",
       "      <td>ID8476392</td>\n",
       "      <td>2019020342</td>\n",
       "      <td>52</td>\n",
       "      <td>0</td>\n",
       "      <td>L</td>\n",
       "      <td>104</td>\n",
       "    </tr>\n",
       "    <tr>\n",
       "      <th>89652</th>\n",
       "      <td>ID8480145</td>\n",
       "      <td>2019020342</td>\n",
       "      <td>52</td>\n",
       "      <td>0</td>\n",
       "      <td>D</td>\n",
       "      <td>104</td>\n",
       "    </tr>\n",
       "    <tr>\n",
       "      <th>89653</th>\n",
       "      <td>ID8476470</td>\n",
       "      <td>2019020342</td>\n",
       "      <td>52</td>\n",
       "      <td>1</td>\n",
       "      <td>D</td>\n",
       "      <td>104</td>\n",
       "    </tr>\n",
       "    <tr>\n",
       "      <th>89654</th>\n",
       "      <td>ID8476945</td>\n",
       "      <td>2019020342</td>\n",
       "      <td>52</td>\n",
       "      <td>0</td>\n",
       "      <td>G</td>\n",
       "      <td>104</td>\n",
       "    </tr>\n",
       "  </tbody>\n",
       "</table>\n",
       "<p>89655 rows × 6 columns</p>\n",
       "</div>"
      ],
      "text/plain": [
       "        PlayerId     game_id  team  points position  gamenum\n",
       "0      ID8471735  2018020811    13       1        D       50\n",
       "1      ID8473544  2018020811    13       0        C       50\n",
       "2      ID8474149  2018020811    13       0        R       50\n",
       "3      ID8477932  2018020811    13       1        D       50\n",
       "4      ID8476875  2018020811    13       0        D       50\n",
       "...          ...         ...   ...     ...      ...      ...\n",
       "89650  ID8478398  2019020342    52       1        L      104\n",
       "89651  ID8476392  2019020342    52       0        L      104\n",
       "89652  ID8480145  2019020342    52       0        D      104\n",
       "89653  ID8476470  2019020342    52       1        D      104\n",
       "89654  ID8476945  2019020342    52       0        G      104\n",
       "\n",
       "[89655 rows x 6 columns]"
      ]
     },
     "execution_count": 100,
     "metadata": {},
     "output_type": "execute_result"
    }
   ],
   "source": []
  },
  {
   "cell_type": "code",
   "execution_count": 106,
   "metadata": {},
   "outputs": [],
   "source": [
    "cols = ['PlayerId', 'game_id', 'team', 'points','position']\n",
    "dfw = dfp[cols].append(dfg[cols])\n",
    "ts = dfw.groupby(['game_id', 'team']).first().reset_index()\n",
    "ts['gamenum'] = ts.groupby('team').cumcount()\n",
    "dfw = pd.merge(dfw, ts[['game_id','gamenum', 'team']], on=['game_id', 'team']).drop_duplicates()\n",
    "\n",
    "\n",
    "gameids = dfw.gamenum.unique()\n",
    "# from IPython.display import clear_output\n",
    "# unplayed = []\n",
    "# print(len(dfw.PlayerId.unique()))\n",
    "# for i, player in enumerate(dfw.PlayerId.unique()):\n",
    "#     games = dfw[dfw.PlayerId == player].gamenum\n",
    "#     fill_games = list(set(gameids) - set(games))\n",
    "#     print(player, len(fill_games), len(dfw.PlayerId.unique()) - i)\n",
    "#     clear_output(wait=True)\n",
    "#     for game in fill_games:\n",
    "#         pos = dfw[dfw['PlayerId'] == player]['position'].to_list()[0]\n",
    "#         team = dfw[dfw['PlayerId'] == player]['team'].to_list()[0]\n",
    "        \n",
    "#         unplayed.extend([dict(PlayerId = player, game_id = game, position = pos, team = team, points = 0)])\n"
   ]
  },
  {
   "cell_type": "code",
   "execution_count": 128,
   "metadata": {},
   "outputs": [],
   "source": [
    "filler = pd.DataFrame(unplayed)\n",
    "filler['gamenum'] = filler['game_id']\n",
    "del filler['game_id']\n",
    "ddfw = dfw[['PlayerId', 'gamenum', 'team', 'points','position']]\n",
    "ddfw =ddfw.append(filler, ignore_index=True)\n",
    "ddfw = ddfw[ddfw.gamenum < 154]\n",
    "ddfw.to_csv('../data/processed/sportsnetpoints.csv')"
   ]
  },
  {
   "cell_type": "markdown",
   "metadata": {},
   "source": [
    "### Goalies\n",
    "\n",
    "As goalies are awarded points for starting a game, we need to filter our shifts table to goalies and first period to see when they start."
   ]
  },
  {
   "cell_type": "code",
   "execution_count": null,
   "metadata": {},
   "outputs": [],
   "source": [
    "# Figuring out if a goalie started a game or not (starting the game is worth points)\n",
    "goal_shifts = shifts[shifts.player_id.isin(df_go.player_id)]\n",
    "goal_shifts = goal_shifts[goal_shifts.period==1]\n"
   ]
  },
  {
   "cell_type": "markdown",
   "metadata": {},
   "source": [
    "### Filtering to the 2018-2019 Season\n",
    "\n",
    "To simplify our analysis ,we will only foucs on the 2018-2019 hockey season. This is done below"
   ]
  },
  {
   "cell_type": "markdown",
   "metadata": {},
   "source": [
    "### Salary Information\n",
    "\n",
    "As a constraint, we may want to include a maximum salary for our fantasy hockey team. To do this we gather hockey salaries below and save them to a data frame"
   ]
  },
  {
   "cell_type": "markdown",
   "metadata": {},
   "source": [
    "### Merging Tables\n",
    "Below we merge the player tables, thir salaries and other information into a single table."
   ]
  },
  {
   "cell_type": "code",
   "execution_count": null,
   "metadata": {},
   "outputs": [],
   "source": [
    "#players \n",
    "df_p_2018 = hockey.player_merge(df_p, df_g, df_player, salaries)\n"
   ]
  },
  {
   "cell_type": "code",
   "execution_count": null,
   "metadata": {},
   "outputs": [],
   "source": [
    "df_ = pd.merge(df_p, df_g[['game_id', 'date_time', 'type']])\n",
    "df_['date_time'] = pd.to_datetime(df_['date_time'])\n",
    "\n",
    "df_ = pd.merge(df_, df_player[['player_id','firstName', 'lastName', 'primaryPosition']])\n",
    "df_ = pd.merge(df_, salaries[['firstName', 'lastName', 'Salary']], on = ['firstName', 'lastName'])\n",
    "df_"
   ]
  },
  {
   "cell_type": "code",
   "execution_count": null,
   "metadata": {},
   "outputs": [],
   "source": [
    "#players \n",
    "df_p_2018 = hockey.player_merge(df_p, df_g, df_player, salaries)\n",
    "df_p_2018 =df_p_2018[(df_p_2018['date_time'] > '2018-10-3') &\n",
    "           (df_p_2018['date_time'] < '2019-04-8') & \n",
    "           (df_p_2018['type'] == 'R')]\n",
    "\n",
    "# goalies\n",
    "\n",
    "df_g_2018 = hockey.player_merge(df_go, df_g, df_player, salaries)\n",
    "df_g_2018 =df_g_2018[(df_g_2018['date_time'] > '2018-10-3') &\n",
    "           (df_g_2018['date_time'] < '2019-04-8') & \n",
    "           (df_g_2018['type'] == 'R')]"
   ]
  },
  {
   "cell_type": "code",
   "execution_count": null,
   "metadata": {},
   "outputs": [],
   "source": [
    "df_p_2018['points'] = df_p_2018.copy().apply(hockey.player_points, axis=1)\n",
    "df_g_2018['points'] = df_g_2018.copy().apply(hockey.goalie_points, args=[goal_shifts], axis=1)"
   ]
  },
  {
   "cell_type": "code",
   "execution_count": null,
   "metadata": {},
   "outputs": [],
   "source": [
    "import matplotlib.pyplot as plt\n",
    "df_p_2018=df_p_2018.sort_values(by='date_time').reset_index(drop=True)\n",
    "df_g_2018=df_g_2018.sort_values(by='date_time').reset_index(drop=True)\n",
    "df_score = df_p_2018[['game_id', 'team_id', 'player_id','firstName', 'lastName', 'primaryPosition', 'points']]\n",
    "df_scoreg = df_g_2018[['game_id', 'team_id', 'player_id','firstName', 'lastName', 'primaryPosition', 'points']]\n",
    "df_score=df_score.append(df_scoreg, ignore_index=True)"
   ]
  },
  {
   "cell_type": "code",
   "execution_count": null,
   "metadata": {},
   "outputs": [],
   "source": [
    "a = pd.merge(df_score, df_games, on = 'game_id', how='left')\n"
   ]
  },
  {
   "cell_type": "code",
   "execution_count": null,
   "metadata": {
    "scrolled": true
   },
   "outputs": [],
   "source": [
    "a=a.sort_values(by=['player_id', 'game_num'], ascending=False).drop_duplicates(subset=['player_id','game_num'])\n"
   ]
  },
  {
   "cell_type": "code",
   "execution_count": null,
   "metadata": {},
   "outputs": [],
   "source": [
    "import matplotlib.pyplot as plt\n",
    "import cufflinks as cf\n",
    "import plotly\n",
    "cf.set_config_file(offline=True)\n",
    "ax1 = pd.DataFrame()\n",
    "ax1['Edmonton Oilers'] = a[a.team_id_x==22]['points']\n",
    "\n",
    "print(len(ax))\n",
    "ax2 = pd.DataFrame()\n",
    "ax2['Tampa Bay Lightning'] = a[a.team_id_x==14]['points']\n",
    "\n",
    "# ax.iplot(kind='hist', barmode='overlay')\n",
    "#ax.set_ylim([0,17])\n",
    "team_compare = pd.concat([ax1,ax2], ignore_index=True, axis=0, sort=False)\n",
    "team_compare.iplot(kind='hist',\n",
    "                   barmode='overlay',\n",
    "                   bins=25,\n",
    "                   histnorm='probability density',\n",
    "                   yTitle='Proportion of Points',\n",
    "                   xTitle = \"Bin Value\")"
   ]
  },
  {
   "cell_type": "markdown",
   "metadata": {},
   "source": [
    "## Final Data Merge\n",
    "\n",
    "In this case we need to add empty (zero filled) rows for players who did not play in a particular game. This is important as we need to have an equal amount of games played for each player for our portfolio optimization later. Note that zero filling is not _necessarily_ the best thing to do. One could also fill by the mean/median/some other metric. In this case zero filling was chosen as if we're looking to pick a player for fantasy hockey - if a player isn't playing many games, they're not going to help us win."
   ]
  },
  {
   "cell_type": "code",
   "execution_count": null,
   "metadata": {},
   "outputs": [],
   "source": [
    "games = list(a.game_num.unique())\n",
    "test = a.copy()\n",
    "for player in a['player_id'].unique():\n",
    "    games_played =  list(a[a['player_id'] == player]['game_num'])\n",
    "    fill_games = list(set(games) - set(games_played))\n",
    "    for game in fill_games:\n",
    "        pos = a[a['player_id'] == player]['primaryPosition'].to_list()[0]\n",
    "        first =  a[a['player_id'] == player]['firstName'].to_list()[0]\n",
    "        last =   a[a['player_id'] == player]['lastName'].to_list()[0]\n",
    "        to_append = pd.DataFrame([[np.nan, \n",
    "                                   np.nan, \n",
    "                                   player, \n",
    "                                   first,\n",
    "                                   last,\n",
    "                                   pos, \n",
    "                                   0, \n",
    "                                   np.nan,\n",
    "                                   np.nan,\n",
    "                                   game]], \n",
    "                                 columns = list(a))\n",
    "        test = test.append(to_append, ignore_index=True)\n",
    "    \n",
    "        \n",
    "\n",
    "\n",
    "test.head()"
   ]
  },
  {
   "cell_type": "markdown",
   "metadata": {},
   "source": [
    "### Dropping Players\n",
    "Here we're ignoring any player that did not play more than 10 games in the previous season."
   ]
  },
  {
   "cell_type": "code",
   "execution_count": null,
   "metadata": {},
   "outputs": [],
   "source": [
    "grouped = a.groupby('player_id').count()\n",
    "players=list(grouped[grouped['won'] > 10].index)\n",
    "test2=test[test['player_id'].isin(players)].reset_index(drop=True)\n",
    "len(players)"
   ]
  },
  {
   "cell_type": "code",
   "execution_count": null,
   "metadata": {},
   "outputs": [],
   "source": [
    "# Zero fillign \n",
    "test = test.fillna(0)\n",
    "test = test.sort_values(by=['player_id', 'game_num'])\n",
    "len(test.player_id.unique())\n",
    "\n",
    "test2 = test2.fillna(0)\n",
    "test = test2.sort_values(by=['player_id', 'game_num'])\n",
    "len(test2.player_id.unique())\n"
   ]
  },
  {
   "cell_type": "code",
   "execution_count": null,
   "metadata": {},
   "outputs": [],
   "source": [
    "p = a.groupby(['firstName', 'lastName']).count().sort_values(by='game_id', ascending=False).reset_index()\n",
    "ax = p['game_id'].plot( figsize=(14,10), linewidth=3, grid=True)\n",
    "ax.tick_params(axis=\"x\", labelsize=16)\n",
    "ax.tick_params(axis=\"y\", labelsize=16)\n",
    "ax.set_ylabel(\"Games Played\", size = 22)\n",
    "ax.set_xlabel(\"Player\", size = 22)\n",
    "plt.show()"
   ]
  },
  {
   "cell_type": "code",
   "execution_count": null,
   "metadata": {},
   "outputs": [],
   "source": [
    "test2.to_csv(\"../data/fixed_data_2018.csv\")"
   ]
  },
  {
   "cell_type": "code",
   "execution_count": null,
   "metadata": {},
   "outputs": [],
   "source": [
    "a.to_csv(\"../data/textaa.csv\")"
   ]
  }
 ],
 "metadata": {
  "kernelspec": {
   "display_name": "Python 3",
   "language": "python",
   "name": "python3"
  },
  "language_info": {
   "codemirror_mode": {
    "name": "ipython",
    "version": 3
   },
   "file_extension": ".py",
   "mimetype": "text/x-python",
   "name": "python",
   "nbconvert_exporter": "python",
   "pygments_lexer": "ipython3",
   "version": "3.7.4"
  },
  "nbTranslate": {
   "displayLangs": [
    "*"
   ],
   "hotkey": "alt-t",
   "langInMainMenu": true,
   "sourceLang": "en",
   "targetLang": "fr",
   "useGoogleTranslate": true
  }
 },
 "nbformat": 4,
 "nbformat_minor": 4
}
