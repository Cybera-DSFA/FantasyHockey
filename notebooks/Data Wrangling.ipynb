{
 "cells": [
  {
   "cell_type": "markdown",
   "metadata": {},
   "source": [
    "# Fantasy Hockey Data Wrangling\n",
    "\n",
    "In this notebook we will wrangle the data used for the Fantasy Hockey draft. This will involve a few steps\n",
    "1. Gather various tables of players, teams, and salaries\n",
    "2. Join the tables\n",
    "3. Calculate each player's score-per-game with custom scoring metrics for our fantasy hockey league \n",
    "\n",
    "Note that many of the helper scripts have been abstracted away to `scripts/hockey_bots.py`\n",
    "\n",
    "\n",
    "## Collecting Data\n",
    "\n",
    "Below we import libraries, as well as import required data into the notebook. "
   ]
  },
  {
   "cell_type": "code",
   "execution_count": 62,
   "metadata": {},
   "outputs": [],
   "source": [
    "import pandas as pd\n",
    "import numpy as np\n",
    "import sys\n",
    "import importlib\n",
    "sys.path.insert(1, '../')\n",
    "import scripts.hockey_bots as hockey\n",
    "importlib.reload(hockey)\n",
    "\n",
    "# players table (stats)\n",
    "df_p = pd.read_csv(\"../data/game_skater_stats.csv\")\n",
    "# game data dable\n",
    "df_g = pd.read_csv(\"../data/game.csv\")\n",
    "# goalies table \n",
    "df_go = pd.read_csv(\"../data/game_goalie_stats.csv\")\n",
    "# player/goalie table (name, team, etc)\n",
    "df_player = pd.read_csv(\"../data/player_info.csv\")\n",
    "# shifts table \n",
    "shifts = pd.read_csv(\"../data/game_shifts.csv\")\n"
   ]
  },
  {
   "cell_type": "markdown",
   "metadata": {},
   "source": [
    "### Goalies\n",
    "\n",
    "As goalies are awarded points for starting a game, we need to filter our shifts table to goalies and first period to see when they start."
   ]
  },
  {
   "cell_type": "code",
   "execution_count": 63,
   "metadata": {},
   "outputs": [],
   "source": [
    "# Figuring out if a goalie started a game or not (starting the game is worth points)\n",
    "goal_shifts = shifts[shifts.player_id.isin(df_go.player_id)]\n",
    "goal_shifts = goal_shifts[goal_shifts.period==1]\n"
   ]
  },
  {
   "cell_type": "markdown",
   "metadata": {},
   "source": [
    "### Filtering to the 2018-2019 Season\n",
    "\n",
    "To simplify our analysis ,we will only foucs on the 2018-2019 hockey season. This is done below"
   ]
  },
  {
   "cell_type": "code",
   "execution_count": 40,
   "metadata": {},
   "outputs": [],
   "source": [
    "import datetime\n",
    "\n",
    "# Finding data for just this season\n",
    "datetime.datetime.strptime\n",
    "df = pd.read_csv('../data/game_teams_stats.csv')\n",
    "df =  pd.merge(df, df_g[['game_id', 'date_time', 'type']])\n",
    "df['date_time'] = pd.to_datetime(df['date_time'])\n",
    "\n",
    "df = df[(df['date_time'] > '2018-10-3') &\n",
    "        (df['date_time'] < '2019-04-10') & \n",
    "        (df['type'] == 'R')]\n",
    "df = df.sort_values(by=['team_id', 'date_time'])\n",
    "df['game_num'] = df.groupby('team_id').cumcount()"
   ]
  },
  {
   "cell_type": "code",
   "execution_count": 41,
   "metadata": {},
   "outputs": [],
   "source": [
    "df_games = df[['game_id','team_id', 'won', 'game_num']]\n"
   ]
  },
  {
   "cell_type": "markdown",
   "metadata": {},
   "source": [
    "### Salary Information\n",
    "\n",
    "As a constraint, we may want to include a maximum salary for our fantasy hockey team. To do this we gather hockey salaries below and save them to a data frame"
   ]
  },
  {
   "cell_type": "code",
   "execution_count": 42,
   "metadata": {},
   "outputs": [],
   "source": [
    "salaries = pd.read_html('https://www.hockey-reference.com/friv/current_nhl_salaries.cgi')[0]\n",
    "salaries['firstName'], salaries['lastName'] = salaries['Player'].str.split(' ', 1).str\n"
   ]
  },
  {
   "cell_type": "markdown",
   "metadata": {},
   "source": [
    "### Merging Tables\n",
    "Below we merge the player tables, thir salaries and other information into a single table."
   ]
  },
  {
   "cell_type": "code",
   "execution_count": 64,
   "metadata": {},
   "outputs": [],
   "source": [
    "#players \n",
    "df_p_2018 = hockey.player_merge(df_p, df_g, df_player, salaries)\n",
    "df_p_2018 =df_p_2018[(df_p_2018['date_time'] > '2018-10-3') &\n",
    "           (df_p_2018['date_time'] < '2019-04-10') & \n",
    "           (df_p_2018['type'] == 'R')]\n",
    "\n",
    "# goalies\n",
    "\n",
    "df_g_2018 = hockey.player_merge(df_go, df_g, df_player, salaries)\n",
    "df_g_2018 =df_g_2018[(df_g_2018['date_time'] > '2018-10-3') &\n",
    "           (df_g_2018['date_time'] < '2019-04-10') & \n",
    "           (df_g_2018['type'] == 'R')]"
   ]
  },
  {
   "cell_type": "code",
   "execution_count": 44,
   "metadata": {},
   "outputs": [],
   "source": [
    "df_p_2018['points'] = df_p_2018.copy().apply(hockey.player_points, axis=1)\n",
    "df_g_2018['points'] = df_g_2018.copy().apply(hockey.goalie_points, args=[goal_shifts], axis=1)"
   ]
  },
  {
   "cell_type": "code",
   "execution_count": 45,
   "metadata": {},
   "outputs": [],
   "source": [
    "import matplotlib.pyplot as plt\n",
    "df_p_2018=df_p_2018.sort_values(by='date_time').reset_index(drop=True)\n",
    "df_g_2018=df_g_2018.sort_values(by='date_time').reset_index(drop=True)\n",
    "df_score = df_p_2018[['game_id', 'team_id', 'player_id','Salary','firstName', 'lastName', 'primaryPosition', 'points']]\n",
    "df_scoreg = df_g_2018[['game_id', 'team_id', 'player_id','Salary','firstName', 'lastName', 'primaryPosition', 'points']]\n",
    "df_score=df_score.append(df_scoreg, ignore_index=True)"
   ]
  },
  {
   "cell_type": "code",
   "execution_count": 47,
   "metadata": {},
   "outputs": [],
   "source": [
    "a = pd.merge(df_score, df_games, on = 'game_id', how='left')\n"
   ]
  },
  {
   "cell_type": "code",
   "execution_count": 65,
   "metadata": {
    "scrolled": true
   },
   "outputs": [
    {
     "data": {
      "text/html": [
       "<div>\n",
       "<style scoped>\n",
       "    .dataframe tbody tr th:only-of-type {\n",
       "        vertical-align: middle;\n",
       "    }\n",
       "\n",
       "    .dataframe tbody tr th {\n",
       "        vertical-align: top;\n",
       "    }\n",
       "\n",
       "    .dataframe thead th {\n",
       "        text-align: right;\n",
       "    }\n",
       "</style>\n",
       "<table border=\"1\" class=\"dataframe\">\n",
       "  <thead>\n",
       "    <tr style=\"text-align: right;\">\n",
       "      <th></th>\n",
       "      <th>game_id</th>\n",
       "      <th>team_id_x</th>\n",
       "      <th>player_id</th>\n",
       "      <th>Salary</th>\n",
       "      <th>firstName</th>\n",
       "      <th>lastName</th>\n",
       "      <th>primaryPosition</th>\n",
       "      <th>points</th>\n",
       "      <th>team_id_y</th>\n",
       "      <th>won</th>\n",
       "      <th>game_num</th>\n",
       "    </tr>\n",
       "  </thead>\n",
       "  <tbody>\n",
       "    <tr>\n",
       "      <td>70862</td>\n",
       "      <td>2018021270</td>\n",
       "      <td>26</td>\n",
       "      <td>8481481</td>\n",
       "      <td>925000</td>\n",
       "      <td>Blake</td>\n",
       "      <td>Lizotte</td>\n",
       "      <td>C</td>\n",
       "      <td>0.03</td>\n",
       "      <td>26</td>\n",
       "      <td>True</td>\n",
       "      <td>81</td>\n",
       "    </tr>\n",
       "    <tr>\n",
       "      <td>64804</td>\n",
       "      <td>2018021165</td>\n",
       "      <td>53</td>\n",
       "      <td>8480950</td>\n",
       "      <td>874125</td>\n",
       "      <td>Ilya</td>\n",
       "      <td>Lyubushkin</td>\n",
       "      <td>D</td>\n",
       "      <td>0.24</td>\n",
       "      <td>2</td>\n",
       "      <td>True</td>\n",
       "      <td>75</td>\n",
       "    </tr>\n",
       "    <tr>\n",
       "      <td>60566</td>\n",
       "      <td>2018021090</td>\n",
       "      <td>53</td>\n",
       "      <td>8480950</td>\n",
       "      <td>874125</td>\n",
       "      <td>Ilya</td>\n",
       "      <td>Lyubushkin</td>\n",
       "      <td>D</td>\n",
       "      <td>1.56</td>\n",
       "      <td>24</td>\n",
       "      <td>False</td>\n",
       "      <td>71</td>\n",
       "    </tr>\n",
       "    <tr>\n",
       "      <td>60567</td>\n",
       "      <td>2018021090</td>\n",
       "      <td>53</td>\n",
       "      <td>8480950</td>\n",
       "      <td>874125</td>\n",
       "      <td>Ilya</td>\n",
       "      <td>Lyubushkin</td>\n",
       "      <td>D</td>\n",
       "      <td>1.56</td>\n",
       "      <td>53</td>\n",
       "      <td>True</td>\n",
       "      <td>70</td>\n",
       "    </tr>\n",
       "    <tr>\n",
       "      <td>60075</td>\n",
       "      <td>2018021076</td>\n",
       "      <td>53</td>\n",
       "      <td>8480950</td>\n",
       "      <td>874125</td>\n",
       "      <td>Ilya</td>\n",
       "      <td>Lyubushkin</td>\n",
       "      <td>D</td>\n",
       "      <td>-0.91</td>\n",
       "      <td>53</td>\n",
       "      <td>True</td>\n",
       "      <td>69</td>\n",
       "    </tr>\n",
       "  </tbody>\n",
       "</table>\n",
       "</div>"
      ],
      "text/plain": [
       "          game_id  team_id_x  player_id  Salary firstName    lastName  \\\n",
       "70862  2018021270         26    8481481  925000     Blake     Lizotte   \n",
       "64804  2018021165         53    8480950  874125      Ilya  Lyubushkin   \n",
       "60566  2018021090         53    8480950  874125      Ilya  Lyubushkin   \n",
       "60567  2018021090         53    8480950  874125      Ilya  Lyubushkin   \n",
       "60075  2018021076         53    8480950  874125      Ilya  Lyubushkin   \n",
       "\n",
       "      primaryPosition  points  team_id_y    won  game_num  \n",
       "70862               C    0.03         26   True        81  \n",
       "64804               D    0.24          2   True        75  \n",
       "60566               D    1.56         24  False        71  \n",
       "60567               D    1.56         53   True        70  \n",
       "60075               D   -0.91         53   True        69  "
      ]
     },
     "execution_count": 65,
     "metadata": {},
     "output_type": "execute_result"
    }
   ],
   "source": [
    "a=a.sort_values(by=['player_id', 'game_num'], ascending=False).drop_duplicates(subset=['player_id','game_num'])\n",
    "a.head()"
   ]
  },
  {
   "cell_type": "markdown",
   "metadata": {},
   "source": [
    "## Final Data Merge\n",
    "\n",
    "In this case we need to add empty (zero filled) rows for players who did not play in a particular game. This is important as we need to have an equal amount of games played for each player for our portfolio optimization later. Note that zero filling is not _necessarily_ the best thing to do. One could also fill by the mean/median/some other metric. In this case zero filling was chosen as if we're looking to pick a player for fantasy hockey - if a player isn't playing many games, they're not going to help us win."
   ]
  },
  {
   "cell_type": "code",
   "execution_count": 49,
   "metadata": {},
   "outputs": [
    {
     "data": {
      "text/html": [
       "<div>\n",
       "<style scoped>\n",
       "    .dataframe tbody tr th:only-of-type {\n",
       "        vertical-align: middle;\n",
       "    }\n",
       "\n",
       "    .dataframe tbody tr th {\n",
       "        vertical-align: top;\n",
       "    }\n",
       "\n",
       "    .dataframe thead th {\n",
       "        text-align: right;\n",
       "    }\n",
       "</style>\n",
       "<table border=\"1\" class=\"dataframe\">\n",
       "  <thead>\n",
       "    <tr style=\"text-align: right;\">\n",
       "      <th></th>\n",
       "      <th>game_id</th>\n",
       "      <th>team_id_x</th>\n",
       "      <th>player_id</th>\n",
       "      <th>Salary</th>\n",
       "      <th>firstName</th>\n",
       "      <th>lastName</th>\n",
       "      <th>primaryPosition</th>\n",
       "      <th>points</th>\n",
       "      <th>team_id_y</th>\n",
       "      <th>won</th>\n",
       "      <th>game_num</th>\n",
       "    </tr>\n",
       "  </thead>\n",
       "  <tbody>\n",
       "    <tr>\n",
       "      <td>0</td>\n",
       "      <td>2.018021e+09</td>\n",
       "      <td>26.0</td>\n",
       "      <td>8481481</td>\n",
       "      <td>925000</td>\n",
       "      <td>Blake</td>\n",
       "      <td>Lizotte</td>\n",
       "      <td>C</td>\n",
       "      <td>0.03</td>\n",
       "      <td>26.0</td>\n",
       "      <td>1.0</td>\n",
       "      <td>81</td>\n",
       "    </tr>\n",
       "    <tr>\n",
       "      <td>1</td>\n",
       "      <td>2.018021e+09</td>\n",
       "      <td>53.0</td>\n",
       "      <td>8480950</td>\n",
       "      <td>874125</td>\n",
       "      <td>Ilya</td>\n",
       "      <td>Lyubushkin</td>\n",
       "      <td>D</td>\n",
       "      <td>0.24</td>\n",
       "      <td>2.0</td>\n",
       "      <td>1.0</td>\n",
       "      <td>75</td>\n",
       "    </tr>\n",
       "    <tr>\n",
       "      <td>2</td>\n",
       "      <td>2.018021e+09</td>\n",
       "      <td>53.0</td>\n",
       "      <td>8480950</td>\n",
       "      <td>874125</td>\n",
       "      <td>Ilya</td>\n",
       "      <td>Lyubushkin</td>\n",
       "      <td>D</td>\n",
       "      <td>1.56</td>\n",
       "      <td>24.0</td>\n",
       "      <td>0.0</td>\n",
       "      <td>71</td>\n",
       "    </tr>\n",
       "    <tr>\n",
       "      <td>3</td>\n",
       "      <td>2.018021e+09</td>\n",
       "      <td>53.0</td>\n",
       "      <td>8480950</td>\n",
       "      <td>874125</td>\n",
       "      <td>Ilya</td>\n",
       "      <td>Lyubushkin</td>\n",
       "      <td>D</td>\n",
       "      <td>1.56</td>\n",
       "      <td>53.0</td>\n",
       "      <td>1.0</td>\n",
       "      <td>70</td>\n",
       "    </tr>\n",
       "    <tr>\n",
       "      <td>4</td>\n",
       "      <td>2.018021e+09</td>\n",
       "      <td>53.0</td>\n",
       "      <td>8480950</td>\n",
       "      <td>874125</td>\n",
       "      <td>Ilya</td>\n",
       "      <td>Lyubushkin</td>\n",
       "      <td>D</td>\n",
       "      <td>-0.91</td>\n",
       "      <td>53.0</td>\n",
       "      <td>1.0</td>\n",
       "      <td>69</td>\n",
       "    </tr>\n",
       "    <tr>\n",
       "      <td>...</td>\n",
       "      <td>...</td>\n",
       "      <td>...</td>\n",
       "      <td>...</td>\n",
       "      <td>...</td>\n",
       "      <td>...</td>\n",
       "      <td>...</td>\n",
       "      <td>...</td>\n",
       "      <td>...</td>\n",
       "      <td>...</td>\n",
       "      <td>...</td>\n",
       "      <td>...</td>\n",
       "    </tr>\n",
       "    <tr>\n",
       "      <td>50261</td>\n",
       "      <td>NaN</td>\n",
       "      <td>NaN</td>\n",
       "      <td>8465009</td>\n",
       "      <td>2000000</td>\n",
       "      <td>Zdeno</td>\n",
       "      <td>Chara</td>\n",
       "      <td>D</td>\n",
       "      <td>0.00</td>\n",
       "      <td>NaN</td>\n",
       "      <td>NaN</td>\n",
       "      <td>27</td>\n",
       "    </tr>\n",
       "    <tr>\n",
       "      <td>50262</td>\n",
       "      <td>NaN</td>\n",
       "      <td>NaN</td>\n",
       "      <td>8465009</td>\n",
       "      <td>2000000</td>\n",
       "      <td>Zdeno</td>\n",
       "      <td>Chara</td>\n",
       "      <td>D</td>\n",
       "      <td>0.00</td>\n",
       "      <td>NaN</td>\n",
       "      <td>NaN</td>\n",
       "      <td>28</td>\n",
       "    </tr>\n",
       "    <tr>\n",
       "      <td>50263</td>\n",
       "      <td>NaN</td>\n",
       "      <td>NaN</td>\n",
       "      <td>8465009</td>\n",
       "      <td>2000000</td>\n",
       "      <td>Zdeno</td>\n",
       "      <td>Chara</td>\n",
       "      <td>D</td>\n",
       "      <td>0.00</td>\n",
       "      <td>NaN</td>\n",
       "      <td>NaN</td>\n",
       "      <td>29</td>\n",
       "    </tr>\n",
       "    <tr>\n",
       "      <td>50264</td>\n",
       "      <td>NaN</td>\n",
       "      <td>NaN</td>\n",
       "      <td>8465009</td>\n",
       "      <td>2000000</td>\n",
       "      <td>Zdeno</td>\n",
       "      <td>Chara</td>\n",
       "      <td>D</td>\n",
       "      <td>0.00</td>\n",
       "      <td>NaN</td>\n",
       "      <td>NaN</td>\n",
       "      <td>30</td>\n",
       "    </tr>\n",
       "    <tr>\n",
       "      <td>50265</td>\n",
       "      <td>NaN</td>\n",
       "      <td>NaN</td>\n",
       "      <td>8465009</td>\n",
       "      <td>2000000</td>\n",
       "      <td>Zdeno</td>\n",
       "      <td>Chara</td>\n",
       "      <td>D</td>\n",
       "      <td>0.00</td>\n",
       "      <td>NaN</td>\n",
       "      <td>NaN</td>\n",
       "      <td>31</td>\n",
       "    </tr>\n",
       "  </tbody>\n",
       "</table>\n",
       "<p>50266 rows × 11 columns</p>\n",
       "</div>"
      ],
      "text/plain": [
       "            game_id  team_id_x  player_id   Salary firstName    lastName  \\\n",
       "0      2.018021e+09       26.0    8481481   925000     Blake     Lizotte   \n",
       "1      2.018021e+09       53.0    8480950   874125      Ilya  Lyubushkin   \n",
       "2      2.018021e+09       53.0    8480950   874125      Ilya  Lyubushkin   \n",
       "3      2.018021e+09       53.0    8480950   874125      Ilya  Lyubushkin   \n",
       "4      2.018021e+09       53.0    8480950   874125      Ilya  Lyubushkin   \n",
       "...             ...        ...        ...      ...       ...         ...   \n",
       "50261           NaN        NaN    8465009  2000000     Zdeno       Chara   \n",
       "50262           NaN        NaN    8465009  2000000     Zdeno       Chara   \n",
       "50263           NaN        NaN    8465009  2000000     Zdeno       Chara   \n",
       "50264           NaN        NaN    8465009  2000000     Zdeno       Chara   \n",
       "50265           NaN        NaN    8465009  2000000     Zdeno       Chara   \n",
       "\n",
       "      primaryPosition  points  team_id_y  won  game_num  \n",
       "0                   C    0.03       26.0  1.0        81  \n",
       "1                   D    0.24        2.0  1.0        75  \n",
       "2                   D    1.56       24.0  0.0        71  \n",
       "3                   D    1.56       53.0  1.0        70  \n",
       "4                   D   -0.91       53.0  1.0        69  \n",
       "...               ...     ...        ...  ...       ...  \n",
       "50261               D    0.00        NaN  NaN        27  \n",
       "50262               D    0.00        NaN  NaN        28  \n",
       "50263               D    0.00        NaN  NaN        29  \n",
       "50264               D    0.00        NaN  NaN        30  \n",
       "50265               D    0.00        NaN  NaN        31  \n",
       "\n",
       "[50266 rows x 11 columns]"
      ]
     },
     "execution_count": 49,
     "metadata": {},
     "output_type": "execute_result"
    }
   ],
   "source": [
    "games = list(a.game_num.unique())\n",
    "test = a.copy()\n",
    "for player in a['player_id'].unique():\n",
    "    games_played =  list(a[a['player_id'] == player]['game_num'])\n",
    "    fill_games = list(set(games) - set(games_played))\n",
    "    for game in fill_games:\n",
    "        pos = a[a['player_id'] == player]['primaryPosition'].to_list()[0]\n",
    "        salary = a[a['player_id'] == player]['Salary'].to_list()[0]\n",
    "        first =  a[a['player_id'] == player]['firstName'].to_list()[0]\n",
    "        last =   a[a['player_id'] == player]['lastName'].to_list()[0]\n",
    "        to_append = pd.DataFrame([[np.nan, \n",
    "                                   np.nan, \n",
    "                                   player, \n",
    "                                   salary, \n",
    "                                   first,\n",
    "                                   last,\n",
    "                                   pos, \n",
    "                                   0, \n",
    "                                   np.nan,\n",
    "                                   np.nan,\n",
    "                                   game]], \n",
    "                                 columns = list(a))\n",
    "        test = test.append(to_append, ignore_index=True)\n",
    "    \n",
    "        \n",
    "\n",
    "\n",
    "test.head()"
   ]
  },
  {
   "cell_type": "markdown",
   "metadata": {},
   "source": [
    "### Dropping Players\n",
    "Here we're ignoring any player that did not play more than 10 games in the previous season."
   ]
  },
  {
   "cell_type": "code",
   "execution_count": 50,
   "metadata": {},
   "outputs": [],
   "source": [
    "grouped = test.groupby('player_id').count()\n",
    "players=list(grouped[grouped['won'] > 10].index)\n",
    "test2=test[test['player_id'].isin(players)].reset_index(drop=True)"
   ]
  },
  {
   "cell_type": "code",
   "execution_count": 52,
   "metadata": {},
   "outputs": [
    {
     "data": {
      "text/plain": [
       "588"
      ]
     },
     "execution_count": 52,
     "metadata": {},
     "output_type": "execute_result"
    }
   ],
   "source": [
    "# Zero fillign \n",
    "test = test.fillna(0)\n",
    "test = test.sort_values(by=['player_id', 'game_num'])\n",
    "len(test.player_id.unique())\n",
    "\n",
    "test2 = test2.fillna(0)\n",
    "test = test2.sort_values(by=['player_id', 'game_num'])\n",
    "len(test2.player_id.unique())\n"
   ]
  },
  {
   "cell_type": "code",
   "execution_count": 54,
   "metadata": {},
   "outputs": [],
   "source": [
    "test.to_csv(\"../data/points_w_salary_and_position2.csv\")"
   ]
  },
  {
   "cell_type": "code",
   "execution_count": 55,
   "metadata": {},
   "outputs": [],
   "source": [
    "test.to_csv(\"../data/scores2.csv\", index=False)"
   ]
  },
  {
   "cell_type": "code",
   "execution_count": 57,
   "metadata": {},
   "outputs": [],
   "source": [
    "scores = test2[['player_id', 'points',]].groupby('player_id').agg(lambda x: list(x)).reset_index()\n",
    "#pd.DataFrame(np.array(scores.points.tolist()), columns=test.player_id.tolist())\n",
    "all_points = pd.DataFrame(np.transpose(scores.points.tolist()), columns = scores.player_id)\n",
    "idx = list(all_points.mean().sort_values(ascending=False).index)\n"
   ]
  },
  {
   "cell_type": "code",
   "execution_count": 60,
   "metadata": {},
   "outputs": [],
   "source": [
    "test2.to_csv(\"../data/player_data_for_optim3.csv\")"
   ]
  },
  {
   "cell_type": "code",
   "execution_count": 61,
   "metadata": {},
   "outputs": [],
   "source": [
    "a.to_csv(\"../data/textaa.csv\")"
   ]
  }
 ],
 "metadata": {
  "kernelspec": {
   "display_name": "Python 3",
   "language": "python",
   "name": "python3"
  },
  "language_info": {
   "codemirror_mode": {
    "name": "ipython",
    "version": 3
   },
   "file_extension": ".py",
   "mimetype": "text/x-python",
   "name": "python",
   "nbconvert_exporter": "python",
   "pygments_lexer": "ipython3",
   "version": "3.7.4"
  },
  "nbTranslate": {
   "displayLangs": [
    "*"
   ],
   "hotkey": "alt-t",
   "langInMainMenu": true,
   "sourceLang": "en",
   "targetLang": "fr",
   "useGoogleTranslate": true
  }
 },
 "nbformat": 4,
 "nbformat_minor": 2
}
