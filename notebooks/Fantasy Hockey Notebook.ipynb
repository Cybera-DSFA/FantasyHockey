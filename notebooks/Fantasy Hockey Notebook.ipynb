{
 "cells": [
  {
   "cell_type": "markdown",
   "metadata": {},
   "source": [
    "# Fantasy Hockey Draft\n",
    "\n",
    "This notebook will simulate a fantasy hockey draft using Markowitz optimization stradegies, and also supports the possiblity of a human player. "
   ]
  },
  {
   "cell_type": "code",
   "execution_count": null,
   "metadata": {},
   "outputs": [],
   "source": [
    "import numpy as np\n",
    "import pandas as pd\n",
    "import cvxpy as cp\n",
    "import importlib\n",
    "import sys\n",
    "\n",
    "sys.path.insert(1, '../')\n",
    "import scripts.hockey_bots as hockey\n",
    "\n",
    "# need to keep reloading for development work because \n",
    "# I apparently like Jupyter too much \n",
    "importlib.reload(hockey)"
   ]
  },
  {
   "cell_type": "markdown",
   "metadata": {},
   "source": [
    "## Importing Data Created in `Data Wrangling.ipynb`"
   ]
  },
  {
   "cell_type": "code",
   "execution_count": null,
   "metadata": {},
   "outputs": [],
   "source": [
    "player_data = pd.read_csv(\"../data/fixed_data_2018.csv\")\n",
    "\n",
    "\n",
    "\n",
    "next_year = pd.read_csv(\"../data/fixed_data_2018.csv\")\n",
    "# aggregate all scores into an array for each player\n",
    "scores = player_data[['player_id', 'points',]].groupby('player_id').agg(lambda x: list(x)).reset_index()\n",
    "scores_next = next_year[['player_id', 'points',]].groupby('player_id').agg(lambda x: list(x)).reset_index()\n",
    "\n",
    "\n",
    "scores_next = scores_next[scores_next.player_id.isin(scores.player_id.unique())]\n",
    "scores = scores[scores.player_id.isin(scores_next.player_id)].reset_index(drop = True)\n",
    "scores_next = scores_next.set_index(scores.player_id).reset_index(drop=True)\n",
    "\n",
    "player_data = player_data[player_data.player_id.isin(scores.player_id)]\n",
    "\n",
    "all_points = pd.DataFrame(np.transpose(scores.points.tolist()), columns = scores.player_id)\n",
    "all_points_next = pd.DataFrame(np.transpose(scores_next.points.tolist()), columns = scores_next.player_id)\n",
    "idx = list(all_points.mean().sort_values(ascending=False).index)\n"
   ]
  },
  {
   "cell_type": "code",
   "execution_count": null,
   "metadata": {},
   "outputs": [],
   "source": [
    "player_data"
   ]
  },
  {
   "cell_type": "code",
   "execution_count": null,
   "metadata": {},
   "outputs": [],
   "source": [
    "\n",
    "all_points = (all_points - all_points.min().max())/(all_points.max().max() - all_points.min().min())\n",
    "all_points"
   ]
  },
  {
   "cell_type": "markdown",
   "metadata": {},
   "source": [
    "## Finding Indexes\n",
    "As we're only interested in aggregate inddexes of average player returns, we need to find each players index according to the aggregation, as well s the indexes of the players in each position done below."
   ]
  },
  {
   "cell_type": "code",
   "execution_count": null,
   "metadata": {},
   "outputs": [],
   "source": [
    "# Finding index in an aggregate score for each position\n",
    "pointies = list(all_points.mean().index)\n",
    "\n",
    "defence = hockey.position_indexes(pointies,all_points,player_data,idx, \"D\")\n",
    "center = hockey.position_indexes(pointies,all_points,player_data,idx, \"C\")\n",
    "goalie = hockey.position_indexes(pointies,all_points, player_data,idx,\"G\")\n",
    "right_wingers = hockey.position_indexes(pointies, all_points,player_data,idx,\"RW\")\n",
    "left_wingers = hockey.position_indexes(pointies, all_points,player_data,idx,\"LW\")"
   ]
  },
  {
   "cell_type": "code",
   "execution_count": null,
   "metadata": {},
   "outputs": [],
   "source": [
    "def exclude_retired(players, names):\n",
    "    retired = []\n",
    "    for name in names:\n",
    "        first, last = name.split(\" \")\n",
    "\n",
    "        df = players[(players.firstName.str.contains(first, case=False)) & \n",
    "                   (players.lastName.str.contains(last, case=False))]\n",
    "       \n",
    "        try:\n",
    "            p = df['player_id'].unique()[0]\n",
    "            df2 = all_points.mean().reset_index()\n",
    "            player_index = list(df2[df2['player_id'] == p].index)[0]\n",
    "            retired.append(player_index)\n",
    "        except:\n",
    "            print(name, \"is bad\")\n",
    "        \n",
    "    return retired \n",
    "\n",
    "ret_names = ['Brooks Orpik', 'Matt Hendricks', \"Roberto Luongo\", 'Chrus Butler', 'Matt Cullen', \n",
    "             'Chris Kunitz', 'Wade Megan', 'Stephen Gionta', 'Mike McKenna', 'Cam Ward', \n",
    "             'Ben Lovejoy', 'Niklas Kronwall', 'Dan Giardi', 'Eric Gryba', 'Lee Stempniak', \n",
    "             'Scott Eansor', 'Michael Leighton', 'Chris Thorburn', 'Dennis Seidenberg']\n",
    "\n"
   ]
  },
  {
   "cell_type": "markdown",
   "metadata": {},
   "source": [
    "## Running the Draft\n",
    "\n",
    "Here we run the actual draft. Noe that `order` defines the order of the draft and automatically reverses after each round. Also note that the teams will be returned in the order that tay appear in the `functions` list in the final result. "
   ]
  },
  {
   "cell_type": "code",
   "execution_count": null,
   "metadata": {},
   "outputs": [],
   "source": [
    "functions = [hockey.optim_player, \n",
    "             hockey.optim_player, \n",
    "             hockey.optim_player,\n",
    "             hockey.optim_player, \n",
    "            hockey.optim_player, \n",
    "            hockey.optim_player, \n",
    "            hockey.human,\n",
    "            hockey.human]\n",
    "\n",
    "greedy_selections = {}\n",
    "greedy_selections['goalie'] = []\n",
    "greedy_selections['defence'] = []\n",
    "greedy_selections['center'] = []\n",
    "greedy_selections['right_winger'] = []\n",
    "greedy_selections['left_winger'] = []\n",
    "\n",
    "\n",
    "order = [3,0,6,7,2,4,5,1]\n",
    "\n",
    "print(len(order), len(functions))\n",
    "team_names =[\"Fighting Squirrels\", \"Snorky Speak Man\", \"Sad Skaters\", \n",
    "            \"Burning Ice\", \"destructus\", \"frozen hope\",\n",
    "            \"Byron\", \"Big G\"]\n",
    "\n",
    "team_names = [x.upper() for x in team_names]\n",
    "args = dict(scores = all_points, \n",
    "            gammaa = [0.01, 0.01, 0.03, 0.8, 0, 0.89, None, None], \n",
    "            greedy_selections = greedy_selections,\n",
    "            df = player_data,\n",
    "            defence = defence,\n",
    "            goalie = goalie,\n",
    "            center = center,\n",
    "            left_wingers = left_wingers,\n",
    "            right_wingers = right_wingers,\n",
    "            selection = ['max', 'optim', 'optim', 'max', 'max', 'optim', None, None],\n",
    "            sub_gamma = [None, 0.3, 0.8, None, None, .02, None, None])\n",
    "\n",
    "taken = exclude_retired(player_data, ret_names)\n",
    "all_players, teams = hockey.draft(functions, order, pause= True, team_names = team_names, team_size=16, **args)\n",
    "\n",
    "\n",
    "\n"
   ]
  },
  {
   "cell_type": "markdown",
   "metadata": {},
   "source": [
    "# Seeing Results\n",
    "\n",
    "Below the distributions of points (from the previous season) are shown based on the teams constructed in `teams` "
   ]
  },
  {
   "cell_type": "code",
   "execution_count": null,
   "metadata": {},
   "outputs": [],
   "source": [
    "import matplotlib.pyplot as plt\n",
    "import seaborn as sns\n",
    "next_year = pd.read_csv(\"../data/scores2.csv_2017\")\n",
    "team_names =[\"Fighting Squirrels\", \"Snorky Talk Man\", \"Sad Skaters\", \n",
    "            \"Burning Ice\", \"destructus\", \"frozen hope\",\n",
    "            \"Byron\", \"Graham\"]\n",
    "order = [3,0,6,7,2,4,5,1]\n",
    "team_names = [x.upper() for x in team_names]\n",
    "fig, ax = plt.subplots(3, 3)\n",
    "fig.set_size_inches(12, 10.5)\n",
    "fig.tight_layout(pad =6)\n",
    "cols = []\n",
    "sns.set(font_scale = 1)\n",
    "for_frame = {'Team Name': [], 'Average Player Return': [], \"Standard Deviation\":[],\n",
    "             \"Maximum Possible Points (2017)\":[]}\n",
    "for i in range(len(teams)):\n",
    "    ohboy = next_year[next_year.player_id.isin(list(all_points.iloc[:,teams[order[i]]]))]\n",
    "    if i == 1:\n",
    "        ohboy_squirrel = ohboy\n",
    "    playerids = ohboy.groupby('player_id').count().index\n",
    "\n",
    "    lineup= next_year[next_year.player_id.isin(playerids)].groupby(['firstName', 'lastName', 'primaryPosition']).mean()\n",
    " \n",
    "    mean_score = next_year[next_year.player_id.isin(playerids)]['points'].mean()\n",
    "    sum_score = next_year[next_year.player_id.isin(playerids)]['points'].sum()\n",
    "    variance_score = next_year[next_year.player_id.isin(playerids)]['points'].std() \n",
    "    for_frame['Team Name'].append(team_names[order[i]])\n",
    "    for_frame['Average Player Return'].append(mean_score)\n",
    "    for_frame[\"Standard Deviation\"].append(variance_score)\n",
    "    for_frame[\"Maximum Possible Points (2017)\"].append(sum_score)\n",
    "    \n",
    "    next_year[next_year.player_id.isin(playerids)]['points'].hist(ax=ax[i//3, i%3], bins=30)\n",
    "    title =  team_names[order[i]] + '\\n' + \" Maximum Possible Points = \" + str(round(sum_score,0)) \n",
    "    gs = [0.01, 1.3, 0.8, 0.5, 0.0, 0.03, 0.01, .89, 0.01]\n",
    "    gs2 = [None, None, None, None, None, .8, .3, .02, 0.99]\n",
    "    \n",
    "#     if functions[order[i]].__name__ == 'optim_player':\n",
    "#         title += \"\\ngamma = \" + str(gs[order[i]]) \n",
    "#         if gs2[order[i]]:\n",
    "#             title += \"\\ngamma2 = \" + str(gs2[order[i]])\n",
    "    cols.append(title)\n",
    "    ax[i//3, i%3].set_title(title)\n",
    "    ax[i//3, i%3].set_ylim([0,600])\n",
    "    ax[i//3, i%3].set_xlim([-25,25])\n",
    "    ax[i//3, i%3].set_ylabel(\"Count\")\n",
    "    ax[i//3, i%3].set_xlabel(\"Bin Value\")\n",
    "\n",
    "    \n",
    "                           \n",
    "    # lineup"
   ]
  },
  {
   "cell_type": "code",
   "execution_count": null,
   "metadata": {},
   "outputs": [],
   "source": [
    "pd.DataFrame(for_frame).sort_values(\"Average Player Return\", ascending=False).round(2)"
   ]
  },
  {
   "cell_type": "markdown",
   "metadata": {},
   "source": [
    "# Uncertainty Estimation\n",
    "\n",
    "Below we simulate one of our teams via Monte Carlo to establish upper and lower bounds of what we may expect for performance of the teams we have generated in the draft"
   ]
  },
  {
   "cell_type": "code",
   "execution_count": null,
   "metadata": {},
   "outputs": [],
   "source": [
    "import seaborn as sns\n",
    "plt.figure(figsize=(12,10))\n",
    "ax = sns.distplot(ohboy_squirrel.points, kde=True, bins=15)\n",
    "sum_score = ohboy_squirrel.points.sum()\n",
    "sns.set(font_scale = 2)\n",
    "ax.set_ylabel(\"Density\", size = 20)\n",
    "ax.set_xlabel(\"Points\", size = 20)\n",
    "ax.set_title(\"Fantasy Team Score 2018 - 2019\\n\" + \"Total Points = \" + str(round(sum_score,1)), size=22  )\n",
    "ax.set_xlim([-15,35])"
   ]
  },
  {
   "cell_type": "code",
   "execution_count": null,
   "metadata": {},
   "outputs": [],
   "source": [
    "import scipy\n",
    "import numpy as np\n",
    "from IPython.display import clear_output\n",
    "simulated_score = []\n",
    "\n",
    "arr = []\n",
    "for i in range(10000):\n",
    "    for name in ohboy_squirrel.lastName.unique():\n",
    "        sampler = scipy.stats.gaussian_kde(ohboy_squirrel[ohboy_squirrel.lastName==name].points)\n",
    "        new_data=sampler.resample(82)\n",
    "        df = pd.DataFrame(new_data.T, columns=['points'])\n",
    "        df['lastName'] = name\n",
    "        simulated_score.extend([df])\n",
    "        arr.extend([df.points.sum()])\n",
    "        print(i)\n",
    "        clear_output(wait=True)\n",
    "\n"
   ]
  },
  {
   "cell_type": "code",
   "execution_count": null,
   "metadata": {},
   "outputs": [],
   "source": [
    "simulated_score2 = pd.concat(simulated_score, ignore_index=True)\n",
    "sum_score = simulated_score2.points.sum()/10000\n",
    "print(sum_score, np.std(np.array(arr)))\n",
    "\n"
   ]
  },
  {
   "cell_type": "code",
   "execution_count": null,
   "metadata": {},
   "outputs": [],
   "source": [
    "plt.figure(figsize=(12,10))\n",
    "sns.set(font_scale = 2)\n",
    "sim_score = simulated_score2.copy()\n",
    "ax = sns.distplot(sim_score.points, kde=True, hist=False, label=\"Simulated\")\n",
    "ax.set_ylabel(\"Density\", size = 20)\n",
    "ax.set_xlabel(\"Points\", size = 20)\n",
    "ax.set_title(\"Simulated Fantasy Team Score 2019 - 2020\\n\" + \"Total Points = \" + str(round(sum_score,1)) +\n",
    "             \" $\\pm$ \" + str(round(2 * np.std(np.array(arr)),1)) + \" (2$\\sigma$)\"\n",
    "             , size=22  )\n",
    "sns.distplot(ohboy.points, kde=True, hist=False, label=\"2018\")\n",
    "ax.set_xlim([-15,35])\n",
    "ax.set_ylim([0,0.14])"
   ]
  }
 ],
 "metadata": {
  "kernelspec": {
   "display_name": "Python 3",
   "language": "python",
   "name": "python3"
  },
  "language_info": {
   "codemirror_mode": {
    "name": "ipython",
    "version": 3
   },
   "file_extension": ".py",
   "mimetype": "text/x-python",
   "name": "python",
   "nbconvert_exporter": "python",
   "pygments_lexer": "ipython3",
   "version": "3.7.4"
  },
  "nbTranslate": {
   "displayLangs": [
    "*"
   ],
   "hotkey": "alt-t",
   "langInMainMenu": true,
   "sourceLang": "en",
   "targetLang": "fr",
   "useGoogleTranslate": true
  }
 },
 "nbformat": 4,
 "nbformat_minor": 2
}
